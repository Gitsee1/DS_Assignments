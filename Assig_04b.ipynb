{
 "cells": [
  {
   "cell_type": "code",
   "execution_count": 1,
   "id": "1b5be133",
   "metadata": {},
   "outputs": [
    {
     "data": {
      "text/plain": [
       "0.9772498680518208"
      ]
     },
     "execution_count": 1,
     "metadata": {},
     "output_type": "execute_result"
    }
   ],
   "source": [
    "from scipy import stats\n",
    "#loc = 5*600 = 3000 --> mean\n",
    "#scale = 25 --> standard deviation\n",
    "\n",
    "stats.norm.cdf(3050,loc = 3000, scale = 25) #gives the p-value based on z-distribution"
   ]
  },
  {
   "cell_type": "code",
   "execution_count": 9,
   "id": "182b24a9",
   "metadata": {},
   "outputs": [
    {
     "data": {
      "text/plain": [
       "0.7554150263604693"
      ]
     },
     "execution_count": 9,
     "metadata": {},
     "output_type": "execute_result"
    }
   ],
   "source": [
    "alpha = 0.5\n",
    "stats.norm.ppf(1-(0.5-0.05)/2)"
   ]
  },
  {
   "cell_type": "markdown",
   "id": "4d397c8a",
   "metadata": {},
   "source": [
    "# Chi square implementation"
   ]
  },
  {
   "cell_type": "code",
   "execution_count": 9,
   "id": "bed53512",
   "metadata": {},
   "outputs": [
    {
     "data": {
      "text/html": [
       "<div>\n",
       "<style scoped>\n",
       "    .dataframe tbody tr th:only-of-type {\n",
       "        vertical-align: middle;\n",
       "    }\n",
       "\n",
       "    .dataframe tbody tr th {\n",
       "        vertical-align: top;\n",
       "    }\n",
       "\n",
       "    .dataframe thead th {\n",
       "        text-align: right;\n",
       "    }\n",
       "</style>\n",
       "<table border=\"1\" class=\"dataframe\">\n",
       "  <thead>\n",
       "    <tr style=\"text-align: right;\">\n",
       "      <th></th>\n",
       "      <th>Smart Thermostat</th>\n",
       "      <th>Smart Light</th>\n",
       "    </tr>\n",
       "  </thead>\n",
       "  <tbody>\n",
       "    <tr>\n",
       "      <th>Very Satisfied</th>\n",
       "      <td>50</td>\n",
       "      <td>70</td>\n",
       "    </tr>\n",
       "    <tr>\n",
       "      <th>Satisfied</th>\n",
       "      <td>80</td>\n",
       "      <td>100</td>\n",
       "    </tr>\n",
       "    <tr>\n",
       "      <th>Nuetral</th>\n",
       "      <td>60</td>\n",
       "      <td>90</td>\n",
       "    </tr>\n",
       "    <tr>\n",
       "      <th>Unsatisfied</th>\n",
       "      <td>30</td>\n",
       "      <td>50</td>\n",
       "    </tr>\n",
       "    <tr>\n",
       "      <th>Very Unsatisfied</th>\n",
       "      <td>20</td>\n",
       "      <td>50</td>\n",
       "    </tr>\n",
       "  </tbody>\n",
       "</table>\n",
       "</div>"
      ],
      "text/plain": [
       "                  Smart Thermostat  Smart Light\n",
       "Very Satisfied                  50           70\n",
       "Satisfied                       80          100\n",
       "Nuetral                         60           90\n",
       "Unsatisfied                     30           50\n",
       "Very Unsatisfied                20           50"
      ]
     },
     "execution_count": 9,
     "metadata": {},
     "output_type": "execute_result"
    }
   ],
   "source": [
    "import pandas as pd\n",
    "data = pd.DataFrame(list(zip([50,80,60,30,20],[70,100,90,50,50])),\n",
    "index=[\"Very Satisfied\",\"Satisfied\",\"Nuetral\",\"Unsatisfied\",\"Very Unsatisfied\"],\n",
    "columns=[\"Smart Thermostat\",\"Smart Light\"])\n",
    "data"
   ]
  },
  {
   "cell_type": "raw",
   "id": "889ca74e",
   "metadata": {},
   "source": [
    "Define the hypothesis"
   ]
  },
  {
   "cell_type": "markdown",
   "id": "da00f230",
   "metadata": {},
   "source": [
    "HO: There is no significant association between types of devices purchased and customer satisfaction\n",
    "H1: There is significant association between types of devices purchased and customer satisfaction"
   ]
  },
  {
   "cell_type": "markdown",
   "id": "4008ae25",
   "metadata": {},
   "source": [
    "Find Stats"
   ]
  },
  {
   "cell_type": "code",
   "execution_count": 12,
   "id": "99566552",
   "metadata": {},
   "outputs": [
    {
     "name": "stdout",
     "output_type": "stream",
     "text": [
      "Chi value calculated from significance level and df 4 is:  9.487729036781154\n"
     ]
    }
   ],
   "source": [
    "#Find CHi values from significance level and df\n",
    "from scipy import stats\n",
    "Chivalue = stats.chi2.ppf(0.95,4)\n",
    "print(\"Chi value calculated from significance level and df 4 is: \", Chivalue)"
   ]
  },
  {
   "cell_type": "markdown",
   "id": "b9cd6838",
   "metadata": {},
   "source": [
    "Find test statistics"
   ]
  },
  {
   "cell_type": "code",
   "execution_count": 14,
   "id": "fa181655",
   "metadata": {},
   "outputs": [
    {
     "name": "stdout",
     "output_type": "stream",
     "text": [
      "chi2: 5.638227513227513\n",
      "p:0.22784371130697179,\n",
      "dof: 4,\n",
      "expected: \n"
     ]
    }
   ],
   "source": [
    "from scipy.stats import chi2_contingency\n",
    "chi2, p, dof, expected = chi2_contingency(data, correction = False)\n",
    "print(\"chi2: {}\\np:{},\\ndof: {},\\nexpected: \".format(chi2,p, dof, expected))"
   ]
  },
  {
   "cell_type": "code",
   "execution_count": 15,
   "id": "d1b7d9ee",
   "metadata": {},
   "outputs": [
    {
     "name": "stdout",
     "output_type": "stream",
     "text": [
      "\u001b[1mIndependent \u001b[94m(H0 holds true)\n"
     ]
    }
   ],
   "source": [
    "#interpret p value \n",
    "alpha = 0.05\n",
    "if p<= alpha:\n",
    "    print('\\033[1mDependent \\033[94m(reject H0)')\n",
    "else:\n",
    "    print('\\033[1mIndependent \\033[94m(H0 holds true)')\n",
    "        "
   ]
  },
  {
   "cell_type": "code",
   "execution_count": null,
   "id": "16c57d54",
   "metadata": {},
   "outputs": [],
   "source": []
  }
 ],
 "metadata": {
  "kernelspec": {
   "display_name": "Python 3 (ipykernel)",
   "language": "python",
   "name": "python3"
  },
  "language_info": {
   "codemirror_mode": {
    "name": "ipython",
    "version": 3
   },
   "file_extension": ".py",
   "mimetype": "text/x-python",
   "name": "python",
   "nbconvert_exporter": "python",
   "pygments_lexer": "ipython3",
   "version": "3.9.12"
  }
 },
 "nbformat": 4,
 "nbformat_minor": 5
}
