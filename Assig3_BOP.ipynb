{
 "cells": [
  {
   "cell_type": "markdown",
   "id": "6fbdb73c",
   "metadata": {},
   "source": [
    "# Assignment 3 : Basics of Python"
   ]
  },
  {
   "cell_type": "markdown",
   "id": "e626be47",
   "metadata": {},
   "source": [
    "# Exercise 1 : Prime Numbers\n",
    "    Write a Python program that checks whether a given number is prime or not. \n",
    "    A prime number is a natural number greater than 1 that has no positive divisors other than 1 and itself"
   ]
  },
  {
   "cell_type": "code",
   "execution_count": 19,
   "id": "300fb96f",
   "metadata": {},
   "outputs": [
    {
     "name": "stdout",
     "output_type": "stream",
     "text": [
      "Please enter the natural number\n",
      "1\n",
      "1 is not a prime number\n"
     ]
    }
   ],
   "source": [
    "print('Please enter the natural number') #User comment to enter the natural number\n",
    "intInput = int(0) #define a int variable \n",
    "intInput =int(input()) #accept the user input\n",
    "if intInput> 1: #Check for negative numbers\n",
    "\n",
    "    for val in range (2,int(intInput/2) +1): #for loop to define the range and checking the divisibility\n",
    "        if intInput % val == 0: # if the remainder is zero\n",
    "            print(intInput, \"is not a prime number\") #print the number is not a prime number\n",
    "            break\n",
    "        else:\n",
    "            print(intInput,\"is a prime number\") # if the remainder is not zero, print it is prime number\n",
    "else:\n",
    "    print(intInput, \"is not a prime number\") #else condition if number entered is a negative number\n",
    "\n",
    "#try:\n",
    " #   checkval = intInput.isnumeric()\n",
    " #   if\n",
    "#except AttributeError:\n",
    " #   checkval = unicode(intInput).isnumeric()"
   ]
  },
  {
   "cell_type": "markdown",
   "id": "7f447ea2",
   "metadata": {},
   "source": [
    "# Exercise 2: Product of Random Numbers"
   ]
  },
  {
   "cell_type": "markdown",
   "id": "2ba447fc",
   "metadata": {},
   "source": [
    "Develop a Python program that generates two random numbers and asks the user to enter the product of these numbers. \n",
    "The program should then check if the user's answer is correct and display an appropriate message."
   ]
  },
  {
   "cell_type": "code",
   "execution_count": 24,
   "id": "40a15804",
   "metadata": {},
   "outputs": [
    {
     "name": "stdout",
     "output_type": "stream",
     "text": [
      "0.9262954197330411 is the first random number generated\n",
      "0.4926792835585643 is the second random number generated;\n",
      "Please enter the product of these 2 numbers\n",
      "0.036\n",
      "Product entered by user does not match the calculated product\n"
     ]
    }
   ],
   "source": [
    "import random\n",
    "\n",
    "#R1Input =random.randint(1,10) #limiting the range on purpose\n",
    "#R2Input =random.randint(1,10) \n",
    "R1Input =random.random() #Generate a random number\n",
    "R2Input =random.random() #Generate 2nd radom number\n",
    "calProd = R1Input * R2Input #calculate the product of 2 generated random numbers\n",
    "print(R1Input,'is the first random number generated') #display the generated random numbers for user reference\n",
    "print(R2Input,'is the second random number generated;')\n",
    "print('Please enter the product of these 2 numbers') #Ask the user to enter the product of generated random numbers\n",
    "intInput =0\n",
    "intInput =input()\n",
    "\n",
    "if calProd == intInput: #compare the user entered value with the computed value and print the result\n",
    "    print('Product entered by user is correct')\n",
    "else:\n",
    "    print('Product entered by user does not match the calculated product')"
   ]
  },
  {
   "cell_type": "markdown",
   "id": "c5c0779e",
   "metadata": {},
   "source": [
    "# Exercise 3: Squares of Even/Odd Numbers"
   ]
  },
  {
   "cell_type": "markdown",
   "id": "4e1ae229",
   "metadata": {},
   "source": [
    "Create a Python script that prints the squares of all even or odd numbers within the range of 100 to 200. \n",
    "Choose either even or odd numbers and document your choice in the code."
   ]
  },
  {
   "cell_type": "code",
   "execution_count": 29,
   "id": "0df4bdcf",
   "metadata": {},
   "outputs": [
    {
     "name": "stdout",
     "output_type": "stream",
     "text": [
      "Please select 1 for odd numbers \n",
      "\n",
      "Please select 2 for even numbers \n",
      "\n",
      "Enter your choice:1\n",
      "The selected choice is: 1\n",
      "The squares of all odd numbers is: [10201, 10609, 11025, 11449, 11881, 12321, 12769, 13225, 13689, 14161, 14641, 15129, 15625, 16129, 16641, 17161, 17689, 18225, 18769, 19321, 19881, 20449, 21025, 21609, 22201, 22801, 23409, 24025, 24649, 25281, 25921, 26569, 27225, 27889, 28561, 29241, 29929, 30625, 31329, 32041, 32761, 33489, 34225, 34969, 35721, 36481, 37249, 38025, 38809, 39601]\n"
     ]
    }
   ],
   "source": [
    "print('Please select 1 for odd numbers \\n') #Give user the choice to select from even/odd\n",
    "print('Please select 2 for even numbers \\n')\n",
    "even_num = [] #define an array element \n",
    "odd_num=[]\n",
    "intInput =0\n",
    "intInput =input('Enter your choice:') #accept the choice from user\n",
    "print('The selected choice is:',intInput)\n",
    "for i in range (100,201): #for loop to define the range\n",
    "        if i%2 ==0: #check if the remainder is 0\n",
    "            even_num.append(i*i) #accumulate the squared data\n",
    "        else:\n",
    "            odd_num.append(i*i)\n",
    "if intInput == 1: #print the accumulated data\n",
    "    print('the squares of all even numbers is: ', even_num)\n",
    "else:\n",
    "    print('The squares of all odd numbers is:', odd_num)"
   ]
  },
  {
   "cell_type": "markdown",
   "id": "69ccb078",
   "metadata": {},
   "source": [
    "# Exercise 4: Word counter"
   ]
  },
  {
   "cell_type": "markdown",
   "id": "a7720e80",
   "metadata": {},
   "source": [
    "write a program to count the number of words in a given text"
   ]
  },
  {
   "cell_type": "code",
   "execution_count": 36,
   "id": "49252be1",
   "metadata": {},
   "outputs": [
    {
     "name": "stdout",
     "output_type": "stream",
     "text": [
      "Enter the sample text:we are here you are there\n",
      "we : 1\n",
      "are : 2\n",
      "here : 1\n",
      "you : 1\n",
      "are : 2\n",
      "there : 1\n"
     ]
    }
   ],
   "source": [
    "TextInput =0\n",
    "TextInput =input('Enter the sample text:') #Get the sample text from user\n",
    "wordInput = TextInput.split() #Split into words\n",
    "for word in wordInput: #for loop to count the number times the word appears in the statement and print the data\n",
    "    wordcount = wordInput.count(word) \n",
    "    print(word, ':', wordcount)\n"
   ]
  },
  {
   "cell_type": "markdown",
   "id": "86e47a44",
   "metadata": {},
   "source": [
    "# Exercise 5: Check for Palindrome"
   ]
  },
  {
   "cell_type": "markdown",
   "id": "2b537fa7",
   "metadata": {},
   "source": [
    "Write a Python function called is_palindrome that takes a string as input and returns True if the string is a palindrome, \n",
    "and False otherwise"
   ]
  },
  {
   "cell_type": "code",
   "execution_count": 43,
   "id": "68e2004d",
   "metadata": {},
   "outputs": [
    {
     "name": "stdout",
     "output_type": "stream",
     "text": [
      "Enter the text:racecar\n",
      "Entered sample text is a Palindrome\n"
     ]
    }
   ],
   "source": [
    "def is_Palindrome(str): #define the function with argument\n",
    "    for i in range(0,int(len(str)/2)): #define the range from 0 to mid of the word\n",
    "        if str[i] != str[len(str)-i-1]: #compare the first letter with last letter\n",
    "            return False\n",
    "        else:\n",
    "            return True\n",
    "\n",
    "#main function \n",
    "s = input('Enter the text:') #accept the data from user\n",
    "checkPla = is_Palindrome(s) #call the function\n",
    "\n",
    "if (checkPla): #Print the computed data\n",
    "    print('Entered sample text is a Palindrome')\n",
    "else:\n",
    "    print('Entered sample text is not a Palindrome')\n",
    "        "
   ]
  }
 ],
 "metadata": {
  "kernelspec": {
   "display_name": "Python 3 (ipykernel)",
   "language": "python",
   "name": "python3"
  },
  "language_info": {
   "codemirror_mode": {
    "name": "ipython",
    "version": 3
   },
   "file_extension": ".py",
   "mimetype": "text/x-python",
   "name": "python",
   "nbconvert_exporter": "python",
   "pygments_lexer": "ipython3",
   "version": "3.9.12"
  }
 },
 "nbformat": 4,
 "nbformat_minor": 5
}
